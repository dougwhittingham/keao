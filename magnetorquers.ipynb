{
  "nbformat": 4,
  "nbformat_minor": 0,
  "metadata": {
    "colab": {
      "name": "magnetorquers.ipynb",
      "provenance": []
    },
    "kernelspec": {
      "name": "python3",
      "display_name": "Python 3"
    }
  },
  "cells": [
    {
      "cell_type": "markdown",
      "metadata": {
        "id": "WTI1eU4R48B0"
      },
      "source": [
        "##User inputs\n"
      ]
    },
    {
      "cell_type": "code",
      "metadata": {
        "id": "bDU5dHvt5CNA",
        "outputId": "9244c12f-6ce2-4ae6-ca5b-af7f3b987a0b",
        "colab": {
          "base_uri": "https://localhost:8080/",
          "height": 34
        }
      },
      "source": [
        "N     = 50                        # turns\n",
        "p     = 1.68E-08                  # resistivity of copper\n",
        "V_s   = 3.3                       # supply voltage\n",
        "A_s   = 5.80E-03                  # average surface area\n",
        "A_cw  = 5.40E-09                  # cross sectional area of wire\n",
        "B     = 2.50E-05                  # Earth's Mag-field\n",
        "L_w   = 11.5                      # wire length\n",
        "\n",
        "L_w"
      ],
      "execution_count": null,
      "outputs": [
        {
          "output_type": "execute_result",
          "data": {
            "text/plain": [
              "11.5"
            ]
          },
          "metadata": {
            "tags": []
          },
          "execution_count": 19
        }
      ]
    },
    {
      "cell_type": "markdown",
      "metadata": {
        "id": "RNoKp9Rc6dx6"
      },
      "source": [
        "##Magnetorquer model"
      ]
    },
    {
      "cell_type": "code",
      "metadata": {
        "id": "ueMi-6V36iBA",
        "outputId": "0ecac10f-b0c4-40a8-d7d8-f266593a61de",
        "colab": {
          "base_uri": "https://localhost:8080/",
          "height": 34
        }
      },
      "source": [
        "def torque_coil(N, p, V_s, A_s, A_cw, B, L_w):\n",
        "  R = p*L_w/A_cw \n",
        "  I = V_s/R\n",
        "  T = N*I*A_s*B\n",
        "  return T\n",
        "\n",
        "def series(N, p, V_s, A_s, A_cw, B, L_w):\n",
        "  R = p*L_w/A_cw \n",
        "  R_tot = R*4\n",
        "  I = \n",
        "\n",
        "def parallel():\n",
        "\n",
        "torque = torque_coil(N, p, V_s, A_s, A_cw, B, L_w);\n",
        "print(torque)"
      ],
      "execution_count": null,
      "outputs": [
        {
          "output_type": "stream",
          "text": [
            "6.687111801242236e-07\n"
          ],
          "name": "stdout"
        }
      ]
    }
  ]
}